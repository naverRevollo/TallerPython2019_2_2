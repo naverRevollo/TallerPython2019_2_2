{
 "cells": [
  {
   "cell_type": "markdown",
   "metadata": {},
   "source": [
    "# Diccionarios\n",
    "Un Diccionario es una estructura de datos y un tipo de dato en Python con características especiales que nos permite almacenar cualquier tipo de valor como enteros, cadenas, listas e incluso otras funciones. Estos diccionarios nos permiten además identificar cada elemento por una clave (Key).\n",
    "\n",
    "Para definir un diccionario, se encierran los valores a cargar entre llaves. Cada dato en el diccionario se separan con comas, y la asignación de valor a clave se realiza con dos puntos:\n",
    "* diccionario={'clave 1': valor_1, 'clave 2': valor_2}\n",
    "\n",
    "Otra alternativa es utilizar la siguiente sintaxis con la función dict\n",
    "* diccionario=dict('clave 1'=valor_1, 'clave 2'=valor_2)\n",
    "\n",
    "\n",
    "# Los diccionarios y las listas comparten las siguientes caracteristicas:\n",
    "* Son mutables\n",
    "* Son dinamicos\n",
    "* Pueden ser anidados\n",
    "\n",
    "# Difieren en que las listas se acceden por indíce y los diccionarios por claves\n",
    "\n"
   ]
  },
  {
   "cell_type": "code",
   "execution_count": 32,
   "metadata": {},
   "outputs": [
    {
     "name": "stdout",
     "output_type": "stream",
     "text": [
      "{'clave1': 'valor_1', 'clave2': 'valor_2'}\n"
     ]
    }
   ],
   "source": [
    "# Definiendo un diccionario utilizando {}\n",
    "diccionario={'clave1':'valor_1', 'clave2':'valor_2'}\n",
    "print(diccionario)"
   ]
  },
  {
   "cell_type": "code",
   "execution_count": 33,
   "metadata": {},
   "outputs": [
    {
     "name": "stdout",
     "output_type": "stream",
     "text": [
      "{'clave1': 'valor_1', 'clave2': 'valor_2'}\n"
     ]
    }
   ],
   "source": [
    "# Definiendo un diccionario utilizando dict\n",
    "diccionario1=dict(clave1='valor_1', clave2='valor_2')\n",
    "print(diccionario1)"
   ]
  },
  {
   "cell_type": "code",
   "execution_count": 4,
   "metadata": {},
   "outputs": [
    {
     "name": "stdout",
     "output_type": "stream",
     "text": [
      "22\n"
     ]
    }
   ],
   "source": [
    "#Crear un diccionario\n",
    "alumno={1:'John', 'edad':22, 'materias':['Programación I', 'Programación II', 'Cálculo']}\n",
    "print(alumno['edad'])"
   ]
  },
  {
   "cell_type": "code",
   "execution_count": 37,
   "metadata": {},
   "outputs": [
    {
     "name": "stdout",
     "output_type": "stream",
     "text": [
      "{'valor1': 1, 'valor2': 2, 'valor3': 3}\n"
     ]
    }
   ],
   "source": [
    "diccionario1=dict(valor1=1,valor2=2,valor3=3)\n",
    "print(diccionario1)"
   ]
  },
  {
   "cell_type": "code",
   "execution_count": 7,
   "metadata": {},
   "outputs": [
    {
     "name": "stdout",
     "output_type": "stream",
     "text": [
      "{1: 'John', 'edad': 22, 'materias': ['Programación I', 'Programación II', 'Cálculo'], 'apellido': 'Andrad'}\n",
      "{1: 'John', 'edad': 22, 'materias': ['Programación I', 'Programación II', 'Cálculo'], 'apellido': 'Andrad', 'apellido1': 'Andrad'}\n"
     ]
    }
   ],
   "source": [
    "#agregando un elemento al diccionario\n",
    "print(alumno)\n",
    "alumno['apellido1']='Andrad'\n",
    "print(alumno)"
   ]
  },
  {
   "cell_type": "code",
   "execution_count": 43,
   "metadata": {},
   "outputs": [
    {
     "name": "stdout",
     "output_type": "stream",
     "text": [
      "{1: 'Pedro', 'edad': 22, 'materias': ['Programación I', 'Programación II', 'Cálculo'], 'apellido': 'Andrade', '1': 'Andrade'}\n"
     ]
    }
   ],
   "source": [
    "#Cambiando el contenido a un diccionario\n",
    "alumno[1]='Pedro'\n",
    "print(alumno)"
   ]
  },
  {
   "cell_type": "code",
   "execution_count": 46,
   "metadata": {},
   "outputs": [
    {
     "name": "stdout",
     "output_type": "stream",
     "text": [
      "{'materias': ['Programación II', 'Cálculo'], 'apellido': 'Andrade', '1': 'Andrade'}\n"
     ]
    }
   ],
   "source": [
    "#Borrando un elemento del diccionario\n",
    "del alumno['edad']\n",
    "print(alumno)"
   ]
  },
  {
   "cell_type": "code",
   "execution_count": 51,
   "metadata": {},
   "outputs": [
    {
     "name": "stdout",
     "output_type": "stream",
     "text": [
      "[[1, 2, 3], [4, 5, 6]]\n"
     ]
    }
   ],
   "source": [
    "#Ejemplo lista de listas pruebe como debería acceder a cada elemento\n",
    "lista=[[1,2,3],[4,5,6]]\n",
    "print(lista)"
   ]
  },
  {
   "cell_type": "markdown",
   "metadata": {},
   "source": [
    "# Estructuras de Control Condicionales y Repetitivas\n",
    "# Condicionales\n",
    "\n",
    "# Decisiones \n",
    "* Se usa para tomar decisiones donde se evalúa una expresión que da como resultado un booleano (verdadero o falso)\n",
    "\n",
    "Se evalúa $<condición>$ y si el resultado es True (verdadero) se ejecutan las acciones indicadas como $<instrucción 1>$.\n",
    "\n",
    "\n",
    " if $<condición>$:\n",
    " \n",
    "   $<instrucción 1>$"
   ]
  },
  {
   "cell_type": "code",
   "execution_count": null,
   "metadata": {},
   "outputs": [],
   "source": [
    "edad=int(input('Ingrese su edad'))\n",
    "if (edad>18):\n",
    "    print('adulto')"
   ]
  },
  {
   "cell_type": "code",
   "execution_count": null,
   "metadata": {},
   "outputs": [],
   "source": [
    "edad=int(input('Ingrese su edad'))\n",
    "if (edad>18):\n",
    "    print('adulto')\n",
    "else:\n",
    "    print('no adulto')"
   ]
  },
  {
   "cell_type": "code",
   "execution_count": null,
   "metadata": {},
   "outputs": [],
   "source": [
    "edad=int(input('Ingrese su edad'))\n",
    "if (edad<= 18):\n",
    "    print('menor de edad')\n",
    "elif (edad > 18 and edad<=60):\n",
    "        print('adulto')\n",
    "else:\n",
    "        print('otro')"
   ]
  },
  {
   "cell_type": "code",
   "execution_count": null,
   "metadata": {},
   "outputs": [],
   "source": [
    "edad=int(input('Ingrese su edad'))\n",
    "if (edad<=18):\n",
    "    print('menor de edad')\n",
    "else:\n",
    "    if (edad >18 and edad<= 60):\n",
    "        print('adulto')\n",
    "    else:\n",
    "        print('otro')        "
   ]
  },
  {
   "cell_type": "markdown",
   "metadata": {},
   "source": [
    "# Actividad 1: ejercicio propuesto\n",
    "* Realice un algoritmo que dada una nota imprima el resultado:\n",
    "* nota <60 entonces imprimir desaprobado\n",
    "* 60<=nota<=80 entonces imprimir aprobado\n",
    "* nota>80  entonces imprimir promociona\n"
   ]
  },
  {
   "cell_type": "code",
   "execution_count": null,
   "metadata": {},
   "outputs": [],
   "source": [
    "nota=int(input('Ingrese nota'))\n",
    "if (nota<60):\n",
    "    print('Desaprobado')\n",
    "elseif (nota>= 60 and nota <=80) then\n",
    "    print('Aprobado')\n",
    "else\n",
    "    print('Promociona')"
   ]
  },
  {
   "cell_type": "code",
   "execution_count": null,
   "metadata": {},
   "outputs": [],
   "source": [
    "resp=input('desea continuar?')\n",
    "if resp=='NO':\n",
    "    print('Termino')\n",
    "else:\n",
    "    print('seguimos!')"
   ]
  },
  {
   "cell_type": "markdown",
   "metadata": {},
   "source": [
    "# El tipo range\n",
    "\n",
    "# El tipo range es una lista inmutable de números enteros en sucesión aritmética.\n",
    "Los tres argumentos del tipo range(m, n, p) son:\n",
    "m: el valor inicial\n",
    "n: el valor final (que no se alcanza nunca)\n",
    "p: el paso (la cantidad que se avanza cada vez).\n",
    "\n",
    "Si se escriben sólo dos argumentos, Python le asigna a p el valor 1. Es decir range(m, n) es lo mismo que range(m, n, 1)\n",
    "Si se escribe sólo un argumento, Python, le asigna a m el valor 0 y a p el valor 1. Es decir range(n) es lo mismo que range(0, n, 1)\n",
    " ## Para ver los valores del range(), es necesario convertirlo a lista mediante la función list()."
   ]
  },
  {
   "cell_type": "code",
   "execution_count": 3,
   "metadata": {},
   "outputs": [
    {
     "name": "stdout",
     "output_type": "stream",
     "text": [
      "range(1, 11)\n",
      "[1, 2, 3, 4, 5, 6, 7, 8, 9, 10]\n"
     ]
    }
   ],
   "source": [
    "valores=range(1,11)\n",
    "print(valores)\n",
    "listaValores=list(valores)\n",
    "print(listaValores)"
   ]
  },
  {
   "cell_type": "markdown",
   "metadata": {},
   "source": [
    "# Actividad 2\n",
    "* Genere una lista que contenga los siguientes valores\n",
    "* [0, 2, 4, 6, 8, 10]\n",
    "* [-5, -3, -1, 1, 3, 5, 7, 9]"
   ]
  },
  {
   "cell_type": "markdown",
   "metadata": {},
   "source": [
    "# Ciclo For\n",
    "\n",
    "* Un bucle es una estructura de control que repite un bloque de instrucciones. Un bucle for es un bucle que repite el bloque de instrucciones un número predeterminado de veces. El bloque de instrucciones que se repite se suele llamar cuerpo del bucle y cada repetición se suele llamar iteración.\n"
   ]
  },
  {
   "cell_type": "code",
   "execution_count": 5,
   "metadata": {},
   "outputs": [
    {
     "name": "stdout",
     "output_type": "stream",
     "text": [
      "Iteración 0\n",
      "Iteración 1\n",
      "Iteración 2\n",
      "Iteración 3\n",
      "Iteración 4\n"
     ]
    }
   ],
   "source": [
    "for i in range(5):\n",
    "    print(f'Iteración {i}')"
   ]
  },
  {
   "cell_type": "code",
   "execution_count": 55,
   "metadata": {},
   "outputs": [
    {
     "name": "stdout",
     "output_type": "stream",
     "text": [
      "Iteración 0\n",
      "Iteración 1\n",
      "Iteración 2\n",
      "Iteración 3\n",
      "Iteración 4\n"
     ]
    }
   ],
   "source": [
    "for i in [0,1,2,3,4]:\n",
    "    print(f'Iteración {i}')"
   ]
  },
  {
   "cell_type": "code",
   "execution_count": 56,
   "metadata": {},
   "outputs": [
    {
     "name": "stdout",
     "output_type": "stream",
     "text": [
      "Iteración 0\n",
      "Iteración 1\n",
      "Iteración 2\n",
      "Iteración 3\n",
      "Iteración 4\n"
     ]
    }
   ],
   "source": [
    "lista=[0,1,2,3,4]\n",
    "for i in lista:\n",
    "    print(f'Iteración {i}')"
   ]
  },
  {
   "cell_type": "code",
   "execution_count": null,
   "metadata": {},
   "outputs": [],
   "source": []
  },
  {
   "cell_type": "code",
   "execution_count": 7,
   "metadata": {},
   "outputs": [
    {
     "name": "stdout",
     "output_type": "stream",
     "text": [
      "El ciclo no comenzo, i vale 10\n",
      "0 * 0 = 0\n",
      "1 * 1 = 1\n",
      "2 * 2 = 4\n",
      "3 * 3 = 9\n",
      "4 * 4 = 16\n",
      "El ciclo termino, i vale 4\n"
     ]
    }
   ],
   "source": [
    "i = 10\n",
    "print(f\"El ciclo no comenzo, i vale {i}\")\n",
    "\n",
    "for i in [0, 1, 2, 3, 4]:\n",
    "    print(f\"{i} * {i} = {i ** 2}\")\n",
    "\n",
    "print(f\"El ciclo termino, i vale {i}\")"
   ]
  },
  {
   "cell_type": "code",
   "execution_count": 8,
   "metadata": {},
   "outputs": [
    {
     "name": "stdout",
     "output_type": "stream",
     "text": [
      "0 - 0\n",
      "0 - 1\n",
      "0 - 2\n",
      "0 - 3\n",
      "1 - 0\n",
      "1 - 1\n",
      "1 - 2\n",
      "1 - 3\n",
      "2 - 0\n",
      "2 - 1\n",
      "2 - 2\n",
      "2 - 3\n"
     ]
    }
   ],
   "source": [
    "#Ciclos anidados\n",
    "for i in range(3):\n",
    "#ciclo externo\n",
    "    for j in range(4):\n",
    "    #ciclo interno\n",
    "        print(i,'-',j)"
   ]
  },
  {
   "cell_type": "code",
   "execution_count": 9,
   "metadata": {},
   "outputs": [
    {
     "name": "stdout",
     "output_type": "stream",
     "text": [
      "1\n",
      "2\n",
      "3\n",
      "4\n",
      "5\n",
      "Programa terminado\n"
     ]
    }
   ],
   "source": [
    "#Bucle while\n",
    "i = 1\n",
    "while i <= 5:\n",
    "    print(i)\n",
    "    i = i + 1\n",
    "print(\"Programa terminado\")"
   ]
  },
  {
   "cell_type": "code",
   "execution_count": 10,
   "metadata": {},
   "outputs": [
    {
     "name": "stdout",
     "output_type": "stream",
     "text": [
      "3\n"
     ]
    }
   ],
   "source": [
    "from random import randint\n",
    "x=randint(1,6)  #start<=x<=stop\n",
    "print(x)"
   ]
  },
  {
   "cell_type": "markdown",
   "metadata": {},
   "source": [
    "# Actividad 3\n",
    "* Genere una lista con los siguientes valores [1,2,3,4,5,6,7,8,9,10]\n",
    "* Luego crear una nueva lista con todos los valores elevados al cuadrado"
   ]
  },
  {
   "cell_type": "code",
   "execution_count": 11,
   "metadata": {},
   "outputs": [
    {
     "ename": "SyntaxError",
     "evalue": "invalid syntax (<ipython-input-11-de85d4b29f65>, line 3)",
     "output_type": "error",
     "traceback": [
      "\u001b[1;36m  File \u001b[1;32m\"<ipython-input-11-de85d4b29f65>\"\u001b[1;36m, line \u001b[1;32m3\u001b[0m\n\u001b[1;33m    lista1=lista.**2\u001b[0m\n\u001b[1;37m                  ^\u001b[0m\n\u001b[1;31mSyntaxError\u001b[0m\u001b[1;31m:\u001b[0m invalid syntax\n"
     ]
    }
   ],
   "source": []
  },
  {
   "cell_type": "code",
   "execution_count": 30,
   "metadata": {},
   "outputs": [
    {
     "name": "stdout",
     "output_type": "stream",
     "text": [
      "Lista: [1, 2, 3, 4, 5, 6, 7, 8, 9, 10]\n",
      "Lista cuadrada [1, 4, 9, 16, 25, 36, 49, 64, 81, 100]\n"
     ]
    }
   ],
   "source": [
    "lista=list(range(1,11))\n",
    "print(f'Lista: {lista}')\n",
    "for i in range (len(lista)):\n",
    "    lista[i]=lista[i]*lista[i]   #o también lista[i]*=lista[i]\n",
    "print(f'Lista cuadrada {lista}')"
   ]
  },
  {
   "cell_type": "code",
   "execution_count": 54,
   "metadata": {},
   "outputs": [
    {
     "name": "stdout",
     "output_type": "stream",
     "text": [
      "1\n",
      "2\n",
      "3\n",
      "----\n",
      "4\n",
      "5\n",
      "----\n"
     ]
    }
   ],
   "source": [
    "lista=[[1,2,3],[4,5]]\n",
    "for i in range(len(lista)):\n",
    "    for j in range (len(lista[i])):\n",
    "        print(lista[i][j])\n",
    "    print('----')"
   ]
  },
  {
   "cell_type": "markdown",
   "metadata": {},
   "source": [
    "# Python la función map() es usada para aplicar una función a todos los elementos de un objeto iterable. Devuelve un objeto map."
   ]
  },
  {
   "cell_type": "code",
   "execution_count": 31,
   "metadata": {},
   "outputs": [
    {
     "name": "stdout",
     "output_type": "stream",
     "text": [
      "[1, 2, 3, 4, 5, 6, 7, 8, 9, 10]\n",
      "[1, 4, 9, 16, 25, 36, 49, 64, 81, 100]\n"
     ]
    }
   ],
   "source": [
    "def cuadrado(x):\n",
    "    return x*x\n",
    "\n",
    "lista=list(range(1,11))\n",
    "print(lista)\n",
    "lista_cuadrado=list(map(cuadrado, lista))\n",
    "print(lista_cuadrado)\n"
   ]
  }
 ],
 "metadata": {
  "kernelspec": {
   "display_name": "Python 3",
   "language": "python",
   "name": "python3"
  },
  "language_info": {
   "codemirror_mode": {
    "name": "ipython",
    "version": 3
   },
   "file_extension": ".py",
   "mimetype": "text/x-python",
   "name": "python",
   "nbconvert_exporter": "python",
   "pygments_lexer": "ipython3",
   "version": "3.7.3"
  }
 },
 "nbformat": 4,
 "nbformat_minor": 4
}
