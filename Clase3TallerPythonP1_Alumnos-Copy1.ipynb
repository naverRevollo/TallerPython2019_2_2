{
 "cells": [
  {
   "cell_type": "markdown",
   "metadata": {},
   "source": [
    "# Numpy"
   ]
  },
  {
   "cell_type": "code",
   "execution_count": null,
   "metadata": {},
   "outputs": [],
   "source": [
    "import numpy as np\n",
    "mi_arreglo1=np.array([[2,3,4]]) # o usamos un sólo corchete si vamos a trabajar sólo con vectores\n",
    "mi_arreglo1"
   ]
  },
  {
   "cell_type": "code",
   "execution_count": null,
   "metadata": {},
   "outputs": [],
   "source": [
    "mi_arreglo1.shape"
   ]
  },
  {
   "cell_type": "code",
   "execution_count": null,
   "metadata": {},
   "outputs": [],
   "source": [
    "mi_arreglo1.ndim"
   ]
  },
  {
   "cell_type": "code",
   "execution_count": null,
   "metadata": {},
   "outputs": [],
   "source": [
    "mi_arreglo1.size"
   ]
  },
  {
   "cell_type": "code",
   "execution_count": null,
   "metadata": {},
   "outputs": [],
   "source": [
    "mi_arreglo1.dtype"
   ]
  },
  {
   "cell_type": "markdown",
   "metadata": {},
   "source": [
    "## NumPy vs. Listas"
   ]
  },
  {
   "cell_type": "code",
   "execution_count": null,
   "metadata": {},
   "outputs": [],
   "source": [
    "#Creando una lista versus arrays\n",
    "mi_lista=list(range(1,10))\n",
    "print(f'Los valores de la lista: {mi_lista}')\n",
    "mi_arreglo=np.arange(1,10)\n",
    "print(f'Valores del arreglo: {mi_arreglo}')\n",
    "print(f'Tipo del arreglo: {type(mi_arreglo)}')\n",
    "print(f'Tipo de valores del arreglo: {mi_arreglo.dtype}')\n",
    "print(f'Dimensión del arreglo: {mi_arreglo.ndim}')"
   ]
  },
  {
   "cell_type": "code",
   "execution_count": null,
   "metadata": {},
   "outputs": [],
   "source": [
    "#Cambiando la forma de un arreglo\n",
    "mi_arreglo1_col=mi_arreglo1.reshape(3,1)\n",
    "print(f'Mi nuevo arreglo : \\n {mi_arreglo1_col}')"
   ]
  },
  {
   "cell_type": "code",
   "execution_count": null,
   "metadata": {},
   "outputs": [],
   "source": [
    "print(type(mi_arreglo1_col.shape))\n",
    "print(mi_arreglo1_col.shape) # la forma se devuelve en una tupla\n",
    "#Extrar la forma del arreglo \n",
    "shape=mi_arreglo1_col.shape\n",
    "print('Accediendo a la tupla....')\n",
    "print(f'Número de filas: {shape[0]}')\n",
    "print(f'Número de columnas: {shape[1]}')"
   ]
  },
  {
   "cell_type": "code",
   "execution_count": null,
   "metadata": {},
   "outputs": [],
   "source": [
    "#Creando un arreglo columna...\n",
    "mi_arreglo2=np.array([[2],[3],[4]])\n",
    "mi_arreglo2"
   ]
  },
  {
   "cell_type": "code",
   "execution_count": null,
   "metadata": {},
   "outputs": [],
   "source": [
    "mi_arreglo2.shape"
   ]
  },
  {
   "cell_type": "code",
   "execution_count": null,
   "metadata": {},
   "outputs": [],
   "source": [
    "mi_arreglo2.ndim"
   ]
  },
  {
   "cell_type": "code",
   "execution_count": null,
   "metadata": {},
   "outputs": [],
   "source": [
    "mi_arreglo2.dtype"
   ]
  },
  {
   "cell_type": "code",
   "execution_count": null,
   "metadata": {},
   "outputs": [],
   "source": [
    "mi_arreglo2.size"
   ]
  },
  {
   "cell_type": "code",
   "execution_count": null,
   "metadata": {},
   "outputs": [],
   "source": [
    "#Creando una matriz de caracteres\n",
    "mi_arreglo_nombres=np.array([['a','b','c'],['d','e','f'],['g','h','i']])\n",
    "print(f'''Valores de la matriz:\n",
    "{mi_arreglo_nombres}''')\n",
    "print(f'Tipo : {type(mi_arreglo_nombres)}')\n",
    "print(f'Forma: {mi_arreglo_nombres.shape}')"
   ]
  },
  {
   "cell_type": "markdown",
   "metadata": {},
   "source": [
    "# dtype\n",
    "* int\n",
    "* bool\n",
    "* float\n",
    "* complex\n",
    "* bytes\n",
    "* uint\n",
    "* uint8\n",
    "* np.int32"
   ]
  },
  {
   "cell_type": "code",
   "execution_count": null,
   "metadata": {},
   "outputs": [],
   "source": [
    "mi_arreglo=np.array([[1,2,3]])\n",
    "print(mi_arreglo)\n",
    "mi_arreglo=np.array([[1,2,3]],dtype=complex)\n",
    "print(mi_arreglo)"
   ]
  },
  {
   "cell_type": "markdown",
   "metadata": {},
   "source": [
    "![](arreglos.png)"
   ]
  },
  {
   "cell_type": "code",
   "execution_count": null,
   "metadata": {},
   "outputs": [],
   "source": [
    "#Creando un arreglo con valores iniciales iguales a cero\n",
    "mi_arreglo=np.zeros([3])\n",
    "print(f'Valores del arreglo: {mi_arreglo}')\n",
    "print(f'Tipo del arreglo: {type(mi_arreglo)}')"
   ]
  },
  {
   "cell_type": "code",
   "execution_count": null,
   "metadata": {},
   "outputs": [],
   "source": [
    "#Creando una matriz con valores iguales a uno en todas sus celdas\n",
    "mi_matriz=np.ones([2,3],dtype=int)\n",
    "print(f'''Valores de la matriz:\n",
    "{mi_matriz}''')\n",
    "print(f'Tipo de la matriz {type(mi_matriz)}')"
   ]
  },
  {
   "cell_type": "code",
   "execution_count": null,
   "metadata": {},
   "outputs": [],
   "source": [
    "_m1=np.zeros([2,3,2],dtype=int)\n",
    "print(_m1)"
   ]
  },
  {
   "cell_type": "markdown",
   "metadata": {},
   "source": [
    "# numpy.reshape\n",
    "* Permite cambiar la forma de un arreglo sin cambiar los datos\n",
    "\n",
    " * numpy.reshape(arreglo, nueva forma) o arreglo.reshape(4,5)\n",
    " * np.reshape(mi_arreglo,(3,3))\n"
   ]
  },
  {
   "cell_type": "code",
   "execution_count": null,
   "metadata": {},
   "outputs": [],
   "source": [
    "a=np.arange(1,21)\n",
    "print(f'Valores del arreglo: {a}')\n",
    "print(f'Forma del arreglo {a.shape}')\n",
    "#Cambiando la forma\n",
    "b=a.reshape(5,4) #o np.reshape(a, (5,4))\n",
    "print(f'Cambiando la forma de \\n {b}')\n",
    "print(f'Nueva forma {b.shape}')"
   ]
  },
  {
   "cell_type": "code",
   "execution_count": null,
   "metadata": {},
   "outputs": [],
   "source": [
    "d = np.arange(10,26,5)\n",
    "d"
   ]
  },
  {
   "cell_type": "markdown",
   "metadata": {},
   "source": [
    "## Ejercicio 1\n",
    "* ¿Como generaría una matriz de dos dimensiones de tamaño 4 filas x 5 columnas con valores 10 en todas sus celdas?"
   ]
  },
  {
   "cell_type": "code",
   "execution_count": null,
   "metadata": {},
   "outputs": [],
   "source": [
    "#Código para el ejercicio 1\n"
   ]
  },
  {
   "cell_type": "markdown",
   "metadata": {},
   "source": [
    "## Ejercicio 2\n",
    "* Crear un arreglo con diez valores entre 1 y 5."
   ]
  },
  {
   "cell_type": "code",
   "execution_count": null,
   "metadata": {},
   "outputs": [],
   "source": [
    "#Código para el ejercicio 2\n"
   ]
  },
  {
   "cell_type": "markdown",
   "metadata": {},
   "source": [
    "## Ejercicio 3\n",
    "* Cargue la matriz que se ve en la figura\n",
    "\n",
    "![](matriz1.png)\n",
    "\n",
    "\n"
   ]
  },
  {
   "cell_type": "code",
   "execution_count": null,
   "metadata": {},
   "outputs": [],
   "source": [
    "#Código para el ejercicio 3\n",
    "\n"
   ]
  },
  {
   "cell_type": "code",
   "execution_count": null,
   "metadata": {},
   "outputs": [],
   "source": [
    "#Crear un arreglo con valores entre 0.1 a 2.4 con paso 0.1"
   ]
  },
  {
   "cell_type": "markdown",
   "metadata": {},
   "source": [
    "# Operaciones con arreglos\n",
    "## Elemento a elemento\n",
    "\n",
    "* a+b o  np.add(a+b)\n",
    "* a-b o np.substract(a,b)\n",
    "* a/b np.divide(a,b)\n",
    "* a*b np.multiply(a,b)\n",
    "\n",
    "## Producto matricial\n",
    "* a.dot(b)\n",
    "* np.matmul(a,b)\n"
   ]
  },
  {
   "cell_type": "code",
   "execution_count": null,
   "metadata": {},
   "outputs": [],
   "source": [
    "#Ejemplo multiplicar dos matrices con numpy\n",
    "import time #Importando una libreria\n",
    "#Definiendo una función tiempo\n",
    "def medir_tiempo(start):\n",
    "    end = time.time()\n",
    "    return(end - start)\n",
    "#Principal\n",
    "start = time.time()\n",
    "a=np.full((2000,5000),5)\n",
    "b=np.full((2000,5000),4)\n",
    "c=np.multiply(a,b)\n",
    "tiempo=medir_tiempo(start)\n",
    "print(f'Tiempo de procesamiento : {tiempo}')\n",
    "print(f'Matriz resultante: {c}')"
   ]
  },
  {
   "cell_type": "code",
   "execution_count": null,
   "metadata": {},
   "outputs": [],
   "source": [
    "#Ejemplo multiplicar dos matrices usando el ciclo for\n",
    "import time\n",
    "def medir_tiempo(start):\n",
    "    \n",
    "    end = time.time()\n",
    "    return(end - start)\n",
    "\n",
    "start = time.time()\n",
    "a=np.full((2000,5000),5)\n",
    "b=np.full((2000,5000),4)\n",
    "for i in range (2000):\n",
    "    for j in range (5000):\n",
    "        c[i][j]=a[i][j]*b[i][j]\n",
    "\n",
    "tiempo=medir_tiempo(start)\n",
    "print(f'Tiempo de procesamiento : {tiempo}')\n",
    "print(f'Matriz resultante: {c}')"
   ]
  },
  {
   "cell_type": "markdown",
   "metadata": {},
   "source": [
    "## Ejercicio 4\n",
    "* Cargue dos matrices a y b, de tamaño 5000 * 5000  con valores aleatorios entre 1 y 30. Realice la suma de ambas matrices y evalue el tiempo de procesamiento.\n"
   ]
  },
  {
   "cell_type": "code",
   "execution_count": null,
   "metadata": {},
   "outputs": [],
   "source": [
    "#Escriba el código del ejercicio 4\n",
    "\n",
    "\n",
    "\n",
    "\n"
   ]
  },
  {
   "cell_type": "markdown",
   "metadata": {},
   "source": [
    "# Comparar elementos de matriz\n",
    "\n",
    "* Comparación elemento a elemento\n",
    "`a == b `\n",
    "`a < or > or != valor` \n",
    "* comparación de arreglos\n",
    "`np.array_equal(a,b)`\n"
   ]
  },
  {
   "cell_type": "code",
   "execution_count": null,
   "metadata": {},
   "outputs": [],
   "source": [
    "a=np.random.randint(5, size=(2,4))\n",
    "b=np.random.randint(5, size=(2,4))\n",
    "print(f'Valores matriz A: \\n {a}')\n",
    "print(f'Valores matriz B: \\n {b}')\n",
    "print(f'Valores de A iguales a B: \\n {a==b}\\n ')\n",
    "print(f'Valores de A distintos a B: \\n {a!=b}\\n ')\n",
    "print(f'Valores de A mayores que 5: \\n {a>5}\\n ')\n",
    "print(f'A es igual  a B: {np.array_equal(a,b)}\\n ')\n",
    "\n"
   ]
  },
  {
   "cell_type": "markdown",
   "metadata": {},
   "source": [
    "# Slicing\n",
    "\n",
    "`array[comienzo:fin:paso]`\n",
    "`a[1:3]` \n",
    "\n",
    "![](slice_array.png)\n",
    "![](slice_matrix.png)\n",
    "\n",
    "## Subsetting\n",
    "* En una dimensión\n",
    "`array[posición]`\n",
    "\n",
    "* En dos dimensiones\n",
    "`array[fila, columna]`"
   ]
  },
  {
   "cell_type": "code",
   "execution_count": null,
   "metadata": {},
   "outputs": [],
   "source": [
    "#Ejemplo arreglo en una dimensión se puede omitir los corchetes al ser una única fila\n",
    "\n",
    "a=np.array([12,31,44,90,32,87,56,9]) \n",
    "print(a.shape)\n",
    "print(a[1:4])\n",
    "print(a[5:])\n",
    "print(a[::-2])\n",
    "print(a[::-1])\n"
   ]
  },
  {
   "cell_type": "markdown",
   "metadata": {},
   "source": [
    "## Ejercicio 5 :Genere la matriz con los slicing que se muestra en la figura anterior"
   ]
  },
  {
   "cell_type": "code",
   "execution_count": null,
   "metadata": {},
   "outputs": [],
   "source": [
    "# Código ejercicio 5\n"
   ]
  }
 ],
 "metadata": {
  "kernelspec": {
   "display_name": "Python 3",
   "language": "python",
   "name": "python3"
  },
  "language_info": {
   "codemirror_mode": {
    "name": "ipython",
    "version": 3
   },
   "file_extension": ".py",
   "mimetype": "text/x-python",
   "name": "python",
   "nbconvert_exporter": "python",
   "pygments_lexer": "ipython3",
   "version": "3.7.3"
  }
 },
 "nbformat": 4,
 "nbformat_minor": 4
}
